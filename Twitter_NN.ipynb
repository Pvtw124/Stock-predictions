{
 "cells": [
  {
   "cell_type": "code",
   "execution_count": 1,
   "id": "df51d9fd",
   "metadata": {},
   "outputs": [],
   "source": [
    "import tensorflow as tf\n",
    "from tensorflow import keras\n",
    "import pandas as pd\n",
    "import seaborn as sns\n",
    "import os\n",
    "import numpy as np\n",
    "%load_ext tensorboard"
   ]
  },
  {
   "cell_type": "code",
   "execution_count": 2,
   "id": "ffa7a29a",
   "metadata": {},
   "outputs": [],
   "source": [
    "tsla = pd.read_parquet(\"data/tsla_combined.parquet\")"
   ]
  },
  {
   "cell_type": "code",
   "execution_count": 3,
   "id": "1737d3e4",
   "metadata": {},
   "outputs": [
    {
     "data": {
      "text/html": [
       "<div>\n",
       "<style scoped>\n",
       "    .dataframe tbody tr th:only-of-type {\n",
       "        vertical-align: middle;\n",
       "    }\n",
       "\n",
       "    .dataframe tbody tr th {\n",
       "        vertical-align: top;\n",
       "    }\n",
       "\n",
       "    .dataframe thead th {\n",
       "        text-align: right;\n",
       "    }\n",
       "</style>\n",
       "<table border=\"1\" class=\"dataframe\">\n",
       "  <thead>\n",
       "    <tr style=\"text-align: right;\">\n",
       "      <th></th>\n",
       "      <th>Date</th>\n",
       "      <th>Close</th>\n",
       "      <th>polarity</th>\n",
       "    </tr>\n",
       "  </thead>\n",
       "  <tbody>\n",
       "    <tr>\n",
       "      <th>1136</th>\n",
       "      <td>2015-01-02</td>\n",
       "      <td>43.862000</td>\n",
       "      <td>0.413871</td>\n",
       "    </tr>\n",
       "    <tr>\n",
       "      <th>1137</th>\n",
       "      <td>2015-01-05</td>\n",
       "      <td>42.018002</td>\n",
       "      <td>0.427613</td>\n",
       "    </tr>\n",
       "    <tr>\n",
       "      <th>1138</th>\n",
       "      <td>2015-01-06</td>\n",
       "      <td>42.256001</td>\n",
       "      <td>0.415008</td>\n",
       "    </tr>\n",
       "    <tr>\n",
       "      <th>1139</th>\n",
       "      <td>2015-01-07</td>\n",
       "      <td>42.189999</td>\n",
       "      <td>0.377024</td>\n",
       "    </tr>\n",
       "    <tr>\n",
       "      <th>1140</th>\n",
       "      <td>2015-01-08</td>\n",
       "      <td>42.124001</td>\n",
       "      <td>0.303595</td>\n",
       "    </tr>\n",
       "    <tr>\n",
       "      <th>...</th>\n",
       "      <td>...</td>\n",
       "      <td>...</td>\n",
       "      <td>...</td>\n",
       "    </tr>\n",
       "    <tr>\n",
       "      <th>2389</th>\n",
       "      <td>2019-12-24</td>\n",
       "      <td>85.050003</td>\n",
       "      <td>0.312909</td>\n",
       "    </tr>\n",
       "    <tr>\n",
       "      <th>2390</th>\n",
       "      <td>2019-12-26</td>\n",
       "      <td>86.188004</td>\n",
       "      <td>0.308775</td>\n",
       "    </tr>\n",
       "    <tr>\n",
       "      <th>2391</th>\n",
       "      <td>2019-12-27</td>\n",
       "      <td>86.075996</td>\n",
       "      <td>0.266039</td>\n",
       "    </tr>\n",
       "    <tr>\n",
       "      <th>2392</th>\n",
       "      <td>2019-12-30</td>\n",
       "      <td>82.940002</td>\n",
       "      <td>0.301495</td>\n",
       "    </tr>\n",
       "    <tr>\n",
       "      <th>2393</th>\n",
       "      <td>2019-12-31</td>\n",
       "      <td>83.666000</td>\n",
       "      <td>0.319125</td>\n",
       "    </tr>\n",
       "  </tbody>\n",
       "</table>\n",
       "<p>1258 rows × 3 columns</p>\n",
       "</div>"
      ],
      "text/plain": [
       "           Date      Close  polarity\n",
       "1136 2015-01-02  43.862000  0.413871\n",
       "1137 2015-01-05  42.018002  0.427613\n",
       "1138 2015-01-06  42.256001  0.415008\n",
       "1139 2015-01-07  42.189999  0.377024\n",
       "1140 2015-01-08  42.124001  0.303595\n",
       "...         ...        ...       ...\n",
       "2389 2019-12-24  85.050003  0.312909\n",
       "2390 2019-12-26  86.188004  0.308775\n",
       "2391 2019-12-27  86.075996  0.266039\n",
       "2392 2019-12-30  82.940002  0.301495\n",
       "2393 2019-12-31  83.666000  0.319125\n",
       "\n",
       "[1258 rows x 3 columns]"
      ]
     },
     "execution_count": 3,
     "metadata": {},
     "output_type": "execute_result"
    }
   ],
   "source": [
    "tsla"
   ]
  },
  {
   "cell_type": "code",
   "execution_count": 4,
   "id": "6025dca6",
   "metadata": {},
   "outputs": [],
   "source": [
    "from sklearn.preprocessing import MinMaxScaler\n",
    "scaler = MinMaxScaler(feature_range=(0,1))\n",
    "tsla['Close'] = scaler.fit_transform(tsla['Close'].values.reshape(-1, 1))"
   ]
  },
  {
   "cell_type": "code",
   "execution_count": 5,
   "id": "edd03860",
   "metadata": {},
   "outputs": [],
   "source": [
    "from sklearn.model_selection import train_test_split\n",
    "\n",
    "X = tsla['polarity']\n",
    "y = tsla['Close']\n",
    "X_train, X_test, y_train, y_test = train_test_split(X, y)\n",
    "\n",
    "# number of days in data (500 tweets in one day)\n",
    "# input = 500, year worth of data, 500 x 365\n",
    "\n",
    "#one neural network with datetime and sentiment score is better\n",
    "#"
   ]
  },
  {
   "cell_type": "code",
   "execution_count": 6,
   "id": "748a596b",
   "metadata": {},
   "outputs": [
    {
     "data": {
      "text/plain": [
       "(943,)"
      ]
     },
     "execution_count": 6,
     "metadata": {},
     "output_type": "execute_result"
    }
   ],
   "source": [
    "X_train.shape"
   ]
  },
  {
   "cell_type": "code",
   "execution_count": 7,
   "id": "2fe5f751",
   "metadata": {},
   "outputs": [],
   "source": [
    "X_train = np.array(X_train).reshape(-1,1)"
   ]
  },
  {
   "cell_type": "code",
   "execution_count": 8,
   "id": "6cc55906",
   "metadata": {},
   "outputs": [
    {
     "name": "stdout",
     "output_type": "stream",
     "text": [
      "Epoch 1/5\n",
      "WARNING:tensorflow:Model was constructed with shape (None, 943, 1) for input KerasTensor(type_spec=TensorSpec(shape=(None, 943, 1), dtype=tf.float32, name='layer0_input'), name='layer0_input', description=\"created by layer 'layer0_input'\"), but it was called on an input with incompatible shape (1, 1, 1).\n",
      "WARNING:tensorflow:Model was constructed with shape (None, 943, 1) for input KerasTensor(type_spec=TensorSpec(shape=(None, 943, 1), dtype=tf.float32, name='layer0_input'), name='layer0_input', description=\"created by layer 'layer0_input'\"), but it was called on an input with incompatible shape (1, 1, 1).\n",
      "943/943 [==============================] - 2s 1ms/step - loss: 0.0421 - accuracy: 0.0000e+00\n",
      "Epoch 2/5\n",
      "943/943 [==============================] - 1s 1ms/step - loss: 0.0396 - accuracy: 0.0000e+00\n",
      "Epoch 3/5\n",
      "943/943 [==============================] - 1s 1ms/step - loss: 0.0386 - accuracy: 0.0000e+00\n",
      "Epoch 4/5\n",
      "943/943 [==============================] - 1s 1ms/step - loss: 0.0378 - accuracy: 0.0000e+00\n",
      "Epoch 5/5\n",
      "943/943 [==============================] - 1s 1ms/step - loss: 0.0380 - accuracy: 0.0000e+00\n"
     ]
    },
    {
     "data": {
      "text/plain": [
       "<keras.callbacks.History at 0x20382322230>"
      ]
     },
     "execution_count": 8,
     "metadata": {},
     "output_type": "execute_result"
    }
   ],
   "source": [
    "# regression\n",
    "#input shape should just be\n",
    "\n",
    "model = keras.models.Sequential([\n",
    "    keras.layers.Dense(1,input_shape=[943,1],name=\"layer0\"),\n",
    "    keras.layers.Dense(200,activation='relu',name=\"layer1\"),\n",
    "    keras.layers.Dense(100,activation='relu',name=\"layer2\"),\n",
    "    keras.layers.Dense(1,name=\"layer3\")\n",
    "])\n",
    "\n",
    "model.compile(loss='mean_squared_error',\n",
    "             optimizer='adam',\n",
    "             metrics=['accuracy'])\n",
    "\n",
    "model.fit(X_train, y_train, epochs=5, batch_size=1)"
   ]
  },
  {
   "cell_type": "code",
   "execution_count": 9,
   "id": "77fb365e",
   "metadata": {},
   "outputs": [
    {
     "data": {
      "text/plain": [
       "(943, 1)"
      ]
     },
     "execution_count": 9,
     "metadata": {},
     "output_type": "execute_result"
    }
   ],
   "source": [
    "X_train.shape"
   ]
  },
  {
   "cell_type": "code",
   "execution_count": null,
   "id": "d8218b48",
   "metadata": {},
   "outputs": [],
   "source": []
  }
 ],
 "metadata": {
  "kernelspec": {
   "display_name": "Python 3 (ipykernel)",
   "language": "python",
   "name": "python3"
  },
  "language_info": {
   "codemirror_mode": {
    "name": "ipython",
    "version": 3
   },
   "file_extension": ".py",
   "mimetype": "text/x-python",
   "name": "python",
   "nbconvert_exporter": "python",
   "pygments_lexer": "ipython3",
   "version": "3.10.2"
  }
 },
 "nbformat": 4,
 "nbformat_minor": 5
}
