{
 "cells": [
  {
   "cell_type": "code",
   "execution_count": 41,
   "id": "b87dc1de",
   "metadata": {},
   "outputs": [],
   "source": [
    "#https://www.kaggle.com/rajan1002/sentiment-analysis-and-rating-prediction-100/data?select=Tweet.csv\n",
    "import seaborn as sns\n",
    "import matplotlib.pyplot as plt\n",
    "import numpy as np\n",
    "import pandas as pd\n",
    "from textblob import TextBlob\n",
    "%matplotlib inline"
   ]
  },
  {
   "cell_type": "code",
   "execution_count": 42,
   "id": "d3450ec2",
   "metadata": {},
   "outputs": [],
   "source": [
    "tweet = pd.read_csv(\"C:\\\\Users\\\\sethh\\\\Documents\\\\data\\\\tweets\\\\Tweet.csv\")\n",
    "tweet_company = pd.read_csv(\"C:\\\\Users\\\\sethh\\\\Documents\\\\data\\\\tweets\\\\Company_Tweet.csv\")\n",
    "company_names = pd.read_csv(\"C:\\\\Users\\\\sethh\\\\Documents\\\\data\\\\tweets\\\\Company.csv\")"
   ]
  },
  {
   "cell_type": "code",
   "execution_count": 43,
   "id": "bc7c6122",
   "metadata": {},
   "outputs": [],
   "source": [
    "# gets tweets that mention tesla\n",
    "tesla_tweet_ids = tweet_company[tweet_company['ticker_symbol']=='TSLA']\n",
    "tsla = pd.merge(tweet, tesla_tweet_ids, on='tweet_id').dropna()"
   ]
  },
  {
   "cell_type": "code",
   "execution_count": 44,
   "id": "cb2b2c9b",
   "metadata": {},
   "outputs": [
    {
     "data": {
      "text/html": [
       "<div>\n",
       "<style scoped>\n",
       "    .dataframe tbody tr th:only-of-type {\n",
       "        vertical-align: middle;\n",
       "    }\n",
       "\n",
       "    .dataframe tbody tr th {\n",
       "        vertical-align: top;\n",
       "    }\n",
       "\n",
       "    .dataframe thead th {\n",
       "        text-align: right;\n",
       "    }\n",
       "</style>\n",
       "<table border=\"1\" class=\"dataframe\">\n",
       "  <thead>\n",
       "    <tr style=\"text-align: right;\">\n",
       "      <th></th>\n",
       "      <th>tweet_id</th>\n",
       "      <th>writer</th>\n",
       "      <th>post_date</th>\n",
       "      <th>body</th>\n",
       "      <th>comment_num</th>\n",
       "      <th>retweet_num</th>\n",
       "      <th>like_num</th>\n",
       "      <th>ticker_symbol</th>\n",
       "    </tr>\n",
       "  </thead>\n",
       "  <tbody>\n",
       "    <tr>\n",
       "      <th>0</th>\n",
       "      <td>550442977802207232</td>\n",
       "      <td>ShowDreamCar</td>\n",
       "      <td>1420070807</td>\n",
       "      <td>$GM $TSLA: Volkswagen Pushes 2014 Record Recal...</td>\n",
       "      <td>0</td>\n",
       "      <td>0</td>\n",
       "      <td>1</td>\n",
       "      <td>TSLA</td>\n",
       "    </tr>\n",
       "    <tr>\n",
       "      <th>1</th>\n",
       "      <td>550443807834402816</td>\n",
       "      <td>i_Know_First</td>\n",
       "      <td>1420071005</td>\n",
       "      <td>Swing Trading: Up To 8.91% Return In 14 Days h...</td>\n",
       "      <td>0</td>\n",
       "      <td>0</td>\n",
       "      <td>1</td>\n",
       "      <td>TSLA</td>\n",
       "    </tr>\n",
       "    <tr>\n",
       "      <th>2</th>\n",
       "      <td>550443808606126081</td>\n",
       "      <td>aaplstocknews</td>\n",
       "      <td>1420071005</td>\n",
       "      <td>Swing Trading: Up To 8.91% Return In 14 Days h...</td>\n",
       "      <td>0</td>\n",
       "      <td>0</td>\n",
       "      <td>1</td>\n",
       "      <td>TSLA</td>\n",
       "    </tr>\n",
       "    <tr>\n",
       "      <th>3</th>\n",
       "      <td>550443809700851716</td>\n",
       "      <td>iknowfirst</td>\n",
       "      <td>1420071005</td>\n",
       "      <td>Swing Trading: Up To 8.91% Return In 14 Days h...</td>\n",
       "      <td>0</td>\n",
       "      <td>0</td>\n",
       "      <td>1</td>\n",
       "      <td>TSLA</td>\n",
       "    </tr>\n",
       "    <tr>\n",
       "      <th>4</th>\n",
       "      <td>550443857142611968</td>\n",
       "      <td>Cprediction</td>\n",
       "      <td>1420071016</td>\n",
       "      <td>Swing Trading: Up To 8.91% Return In 14 Days h...</td>\n",
       "      <td>0</td>\n",
       "      <td>0</td>\n",
       "      <td>1</td>\n",
       "      <td>TSLA</td>\n",
       "    </tr>\n",
       "    <tr>\n",
       "      <th>...</th>\n",
       "      <td>...</td>\n",
       "      <td>...</td>\n",
       "      <td>...</td>\n",
       "      <td>...</td>\n",
       "      <td>...</td>\n",
       "      <td>...</td>\n",
       "      <td>...</td>\n",
       "      <td>...</td>\n",
       "    </tr>\n",
       "    <tr>\n",
       "      <th>1096863</th>\n",
       "      <td>1212158772015034369</td>\n",
       "      <td>StockJoke</td>\n",
       "      <td>1577836146</td>\n",
       "      <td>I'm getting wasted on NYE, and thanks to @NHTS...</td>\n",
       "      <td>0</td>\n",
       "      <td>0</td>\n",
       "      <td>0</td>\n",
       "      <td>TSLA</td>\n",
       "    </tr>\n",
       "    <tr>\n",
       "      <th>1096864</th>\n",
       "      <td>1212159099632267268</td>\n",
       "      <td>sweetog76</td>\n",
       "      <td>1577836224</td>\n",
       "      <td>$TSLA Very Interesting dude:</td>\n",
       "      <td>0</td>\n",
       "      <td>0</td>\n",
       "      <td>0</td>\n",
       "      <td>TSLA</td>\n",
       "    </tr>\n",
       "    <tr>\n",
       "      <th>1096865</th>\n",
       "      <td>1212159184931717120</td>\n",
       "      <td>MelaynaLokosky</td>\n",
       "      <td>1577836245</td>\n",
       "      <td>If only 2020 brought more self-awareness to Te...</td>\n",
       "      <td>0</td>\n",
       "      <td>1</td>\n",
       "      <td>0</td>\n",
       "      <td>TSLA</td>\n",
       "    </tr>\n",
       "    <tr>\n",
       "      <th>1096866</th>\n",
       "      <td>1212159838882533376</td>\n",
       "      <td>ShortingIsFun</td>\n",
       "      <td>1577836401</td>\n",
       "      <td>In 2020 I may start Tweeting out positive news...</td>\n",
       "      <td>0</td>\n",
       "      <td>0</td>\n",
       "      <td>1</td>\n",
       "      <td>TSLA</td>\n",
       "    </tr>\n",
       "    <tr>\n",
       "      <th>1096867</th>\n",
       "      <td>1212160015332728833</td>\n",
       "      <td>Commuternyc</td>\n",
       "      <td>1577836443</td>\n",
       "      <td>Patiently Waiting for the no twitter sitter tw...</td>\n",
       "      <td>0</td>\n",
       "      <td>0</td>\n",
       "      <td>5</td>\n",
       "      <td>TSLA</td>\n",
       "    </tr>\n",
       "  </tbody>\n",
       "</table>\n",
       "<p>1073202 rows × 8 columns</p>\n",
       "</div>"
      ],
      "text/plain": [
       "                    tweet_id          writer   post_date  \\\n",
       "0         550442977802207232    ShowDreamCar  1420070807   \n",
       "1         550443807834402816    i_Know_First  1420071005   \n",
       "2         550443808606126081   aaplstocknews  1420071005   \n",
       "3         550443809700851716      iknowfirst  1420071005   \n",
       "4         550443857142611968     Cprediction  1420071016   \n",
       "...                      ...             ...         ...   \n",
       "1096863  1212158772015034369       StockJoke  1577836146   \n",
       "1096864  1212159099632267268       sweetog76  1577836224   \n",
       "1096865  1212159184931717120  MelaynaLokosky  1577836245   \n",
       "1096866  1212159838882533376   ShortingIsFun  1577836401   \n",
       "1096867  1212160015332728833     Commuternyc  1577836443   \n",
       "\n",
       "                                                      body  comment_num  \\\n",
       "0        $GM $TSLA: Volkswagen Pushes 2014 Record Recal...            0   \n",
       "1        Swing Trading: Up To 8.91% Return In 14 Days h...            0   \n",
       "2        Swing Trading: Up To 8.91% Return In 14 Days h...            0   \n",
       "3        Swing Trading: Up To 8.91% Return In 14 Days h...            0   \n",
       "4        Swing Trading: Up To 8.91% Return In 14 Days h...            0   \n",
       "...                                                    ...          ...   \n",
       "1096863  I'm getting wasted on NYE, and thanks to @NHTS...            0   \n",
       "1096864                       $TSLA Very Interesting dude:            0   \n",
       "1096865  If only 2020 brought more self-awareness to Te...            0   \n",
       "1096866  In 2020 I may start Tweeting out positive news...            0   \n",
       "1096867  Patiently Waiting for the no twitter sitter tw...            0   \n",
       "\n",
       "         retweet_num  like_num ticker_symbol  \n",
       "0                  0         1          TSLA  \n",
       "1                  0         1          TSLA  \n",
       "2                  0         1          TSLA  \n",
       "3                  0         1          TSLA  \n",
       "4                  0         1          TSLA  \n",
       "...              ...       ...           ...  \n",
       "1096863            0         0          TSLA  \n",
       "1096864            0         0          TSLA  \n",
       "1096865            1         0          TSLA  \n",
       "1096866            0         1          TSLA  \n",
       "1096867            0         5          TSLA  \n",
       "\n",
       "[1073202 rows x 8 columns]"
      ]
     },
     "execution_count": 44,
     "metadata": {},
     "output_type": "execute_result"
    }
   ],
   "source": [
    "tsla"
   ]
  },
  {
   "cell_type": "code",
   "execution_count": 46,
   "id": "256f03bc",
   "metadata": {},
   "outputs": [],
   "source": [
    "# gets sentiment score\n",
    "def getPolarity(text):\n",
    "    return TextBlob(text).sentiment.polarity\n",
    "def getSubjectivity(text):\n",
    "    return TextBlob(text).sentiment.subjectivity\n",
    "\n",
    "tsla['subjectivity'] = tsla['body'].apply(getSubjectivity)\n",
    "tsla['polarity'] = tsla['body'].apply(getPolarity)"
   ]
  },
  {
   "cell_type": "code",
   "execution_count": 47,
   "id": "f27e0fb1",
   "metadata": {},
   "outputs": [],
   "source": [
    "#export tsla table with sentiment scores\n",
    "tsla.to_parquet('data/tsla3.parquet',\n",
    "              compression=None) "
   ]
  },
  {
   "cell_type": "code",
   "execution_count": 48,
   "id": "ed867664",
   "metadata": {},
   "outputs": [
    {
     "data": {
      "text/html": [
       "<div>\n",
       "<style scoped>\n",
       "    .dataframe tbody tr th:only-of-type {\n",
       "        vertical-align: middle;\n",
       "    }\n",
       "\n",
       "    .dataframe tbody tr th {\n",
       "        vertical-align: top;\n",
       "    }\n",
       "\n",
       "    .dataframe thead th {\n",
       "        text-align: right;\n",
       "    }\n",
       "</style>\n",
       "<table border=\"1\" class=\"dataframe\">\n",
       "  <thead>\n",
       "    <tr style=\"text-align: right;\">\n",
       "      <th></th>\n",
       "      <th>tweet_id</th>\n",
       "      <th>writer</th>\n",
       "      <th>post_date</th>\n",
       "      <th>body</th>\n",
       "      <th>comment_num</th>\n",
       "      <th>retweet_num</th>\n",
       "      <th>like_num</th>\n",
       "      <th>ticker_symbol</th>\n",
       "      <th>subjectivity</th>\n",
       "      <th>polarity</th>\n",
       "    </tr>\n",
       "  </thead>\n",
       "  <tbody>\n",
       "    <tr>\n",
       "      <th>0</th>\n",
       "      <td>550442977802207232</td>\n",
       "      <td>ShowDreamCar</td>\n",
       "      <td>1420070807</td>\n",
       "      <td>$GM $TSLA: Volkswagen Pushes 2014 Record Recal...</td>\n",
       "      <td>0</td>\n",
       "      <td>0</td>\n",
       "      <td>1</td>\n",
       "      <td>TSLA</td>\n",
       "      <td>0.500000</td>\n",
       "      <td>0.250000</td>\n",
       "    </tr>\n",
       "    <tr>\n",
       "      <th>1</th>\n",
       "      <td>550443807834402816</td>\n",
       "      <td>i_Know_First</td>\n",
       "      <td>1420071005</td>\n",
       "      <td>Swing Trading: Up To 8.91% Return In 14 Days h...</td>\n",
       "      <td>0</td>\n",
       "      <td>0</td>\n",
       "      <td>1</td>\n",
       "      <td>TSLA</td>\n",
       "      <td>0.000000</td>\n",
       "      <td>0.000000</td>\n",
       "    </tr>\n",
       "    <tr>\n",
       "      <th>2</th>\n",
       "      <td>550443808606126081</td>\n",
       "      <td>aaplstocknews</td>\n",
       "      <td>1420071005</td>\n",
       "      <td>Swing Trading: Up To 8.91% Return In 14 Days h...</td>\n",
       "      <td>0</td>\n",
       "      <td>0</td>\n",
       "      <td>1</td>\n",
       "      <td>TSLA</td>\n",
       "      <td>0.000000</td>\n",
       "      <td>0.000000</td>\n",
       "    </tr>\n",
       "    <tr>\n",
       "      <th>3</th>\n",
       "      <td>550443809700851716</td>\n",
       "      <td>iknowfirst</td>\n",
       "      <td>1420071005</td>\n",
       "      <td>Swing Trading: Up To 8.91% Return In 14 Days h...</td>\n",
       "      <td>0</td>\n",
       "      <td>0</td>\n",
       "      <td>1</td>\n",
       "      <td>TSLA</td>\n",
       "      <td>0.000000</td>\n",
       "      <td>0.000000</td>\n",
       "    </tr>\n",
       "    <tr>\n",
       "      <th>4</th>\n",
       "      <td>550443857142611968</td>\n",
       "      <td>Cprediction</td>\n",
       "      <td>1420071016</td>\n",
       "      <td>Swing Trading: Up To 8.91% Return In 14 Days h...</td>\n",
       "      <td>0</td>\n",
       "      <td>0</td>\n",
       "      <td>1</td>\n",
       "      <td>TSLA</td>\n",
       "      <td>0.000000</td>\n",
       "      <td>0.000000</td>\n",
       "    </tr>\n",
       "    <tr>\n",
       "      <th>...</th>\n",
       "      <td>...</td>\n",
       "      <td>...</td>\n",
       "      <td>...</td>\n",
       "      <td>...</td>\n",
       "      <td>...</td>\n",
       "      <td>...</td>\n",
       "      <td>...</td>\n",
       "      <td>...</td>\n",
       "      <td>...</td>\n",
       "      <td>...</td>\n",
       "    </tr>\n",
       "    <tr>\n",
       "      <th>1096863</th>\n",
       "      <td>1212158772015034369</td>\n",
       "      <td>StockJoke</td>\n",
       "      <td>1577836146</td>\n",
       "      <td>I'm getting wasted on NYE, and thanks to @NHTS...</td>\n",
       "      <td>0</td>\n",
       "      <td>0</td>\n",
       "      <td>0</td>\n",
       "      <td>TSLA</td>\n",
       "      <td>0.100000</td>\n",
       "      <td>0.025000</td>\n",
       "    </tr>\n",
       "    <tr>\n",
       "      <th>1096864</th>\n",
       "      <td>1212159099632267268</td>\n",
       "      <td>sweetog76</td>\n",
       "      <td>1577836224</td>\n",
       "      <td>$TSLA Very Interesting dude:</td>\n",
       "      <td>0</td>\n",
       "      <td>0</td>\n",
       "      <td>0</td>\n",
       "      <td>TSLA</td>\n",
       "      <td>0.650000</td>\n",
       "      <td>0.650000</td>\n",
       "    </tr>\n",
       "    <tr>\n",
       "      <th>1096865</th>\n",
       "      <td>1212159184931717120</td>\n",
       "      <td>MelaynaLokosky</td>\n",
       "      <td>1577836245</td>\n",
       "      <td>If only 2020 brought more self-awareness to Te...</td>\n",
       "      <td>0</td>\n",
       "      <td>1</td>\n",
       "      <td>0</td>\n",
       "      <td>TSLA</td>\n",
       "      <td>0.750000</td>\n",
       "      <td>0.250000</td>\n",
       "    </tr>\n",
       "    <tr>\n",
       "      <th>1096866</th>\n",
       "      <td>1212159838882533376</td>\n",
       "      <td>ShortingIsFun</td>\n",
       "      <td>1577836401</td>\n",
       "      <td>In 2020 I may start Tweeting out positive news...</td>\n",
       "      <td>0</td>\n",
       "      <td>0</td>\n",
       "      <td>1</td>\n",
       "      <td>TSLA</td>\n",
       "      <td>0.472727</td>\n",
       "      <td>-0.036364</td>\n",
       "    </tr>\n",
       "    <tr>\n",
       "      <th>1096867</th>\n",
       "      <td>1212160015332728833</td>\n",
       "      <td>Commuternyc</td>\n",
       "      <td>1577836443</td>\n",
       "      <td>Patiently Waiting for the no twitter sitter tw...</td>\n",
       "      <td>0</td>\n",
       "      <td>0</td>\n",
       "      <td>5</td>\n",
       "      <td>TSLA</td>\n",
       "      <td>0.000000</td>\n",
       "      <td>0.000000</td>\n",
       "    </tr>\n",
       "  </tbody>\n",
       "</table>\n",
       "<p>1073202 rows × 10 columns</p>\n",
       "</div>"
      ],
      "text/plain": [
       "                    tweet_id          writer   post_date  \\\n",
       "0         550442977802207232    ShowDreamCar  1420070807   \n",
       "1         550443807834402816    i_Know_First  1420071005   \n",
       "2         550443808606126081   aaplstocknews  1420071005   \n",
       "3         550443809700851716      iknowfirst  1420071005   \n",
       "4         550443857142611968     Cprediction  1420071016   \n",
       "...                      ...             ...         ...   \n",
       "1096863  1212158772015034369       StockJoke  1577836146   \n",
       "1096864  1212159099632267268       sweetog76  1577836224   \n",
       "1096865  1212159184931717120  MelaynaLokosky  1577836245   \n",
       "1096866  1212159838882533376   ShortingIsFun  1577836401   \n",
       "1096867  1212160015332728833     Commuternyc  1577836443   \n",
       "\n",
       "                                                      body  comment_num  \\\n",
       "0        $GM $TSLA: Volkswagen Pushes 2014 Record Recal...            0   \n",
       "1        Swing Trading: Up To 8.91% Return In 14 Days h...            0   \n",
       "2        Swing Trading: Up To 8.91% Return In 14 Days h...            0   \n",
       "3        Swing Trading: Up To 8.91% Return In 14 Days h...            0   \n",
       "4        Swing Trading: Up To 8.91% Return In 14 Days h...            0   \n",
       "...                                                    ...          ...   \n",
       "1096863  I'm getting wasted on NYE, and thanks to @NHTS...            0   \n",
       "1096864                       $TSLA Very Interesting dude:            0   \n",
       "1096865  If only 2020 brought more self-awareness to Te...            0   \n",
       "1096866  In 2020 I may start Tweeting out positive news...            0   \n",
       "1096867  Patiently Waiting for the no twitter sitter tw...            0   \n",
       "\n",
       "         retweet_num  like_num ticker_symbol  subjectivity  polarity  \n",
       "0                  0         1          TSLA      0.500000  0.250000  \n",
       "1                  0         1          TSLA      0.000000  0.000000  \n",
       "2                  0         1          TSLA      0.000000  0.000000  \n",
       "3                  0         1          TSLA      0.000000  0.000000  \n",
       "4                  0         1          TSLA      0.000000  0.000000  \n",
       "...              ...       ...           ...           ...       ...  \n",
       "1096863            0         0          TSLA      0.100000  0.025000  \n",
       "1096864            0         0          TSLA      0.650000  0.650000  \n",
       "1096865            1         0          TSLA      0.750000  0.250000  \n",
       "1096866            0         1          TSLA      0.472727 -0.036364  \n",
       "1096867            0         5          TSLA      0.000000  0.000000  \n",
       "\n",
       "[1073202 rows x 10 columns]"
      ]
     },
     "execution_count": 48,
     "metadata": {},
     "output_type": "execute_result"
    }
   ],
   "source": [
    "tsla = pd.read_parquet(\"data/tsla3.parquet\")\n",
    "tsla"
   ]
  },
  {
   "cell_type": "code",
   "execution_count": 49,
   "id": "0b99d3b0",
   "metadata": {},
   "outputs": [
    {
     "data": {
      "text/plain": [
       "<seaborn.axisgrid.FacetGrid at 0x16bab5971c0>"
      ]
     },
     "execution_count": 49,
     "metadata": {},
     "output_type": "execute_result"
    },
    {
     "data": {
      "image/png": "[encoded data removed]",
      "text/plain": [
       "<Figure size 360x360 with 1 Axes>"
      ]
     },
     "metadata": {
      "needs_background": "light"
     },
     "output_type": "display_data"
    }
   ],
   "source": [
    "sns.displot(tsla['polarity'], bins=20) \\\n",
    "    .set(title='Sentiment Score Tesla Tweets', xlabel='Polarity')"
   ]
  },
  {
   "cell_type": "code",
   "execution_count": 50,
   "id": "ee116ce6",
   "metadata": {},
   "outputs": [
    {
     "data": {
      "text/plain": [
       "<seaborn.axisgrid.FacetGrid at 0x16bab5955a0>"
      ]
     },
     "execution_count": 50,
     "metadata": {},
     "output_type": "execute_result"
    },
    {
     "data": {
      "image/png": "[encoded data removed]",
      "text/plain": [
       "<Figure size 360x360 with 1 Axes>"
      ]
     },
     "metadata": {
      "needs_background": "light"
     },
     "output_type": "display_data"
    }
   ],
   "source": [
    "sns.displot(tsla['subjectivity'], bins=20) \\\n",
    "    .set(title='Sentiment Score Tesla Tweets', xlabel='subjectivity')"
   ]
  },
  {
   "cell_type": "code",
   "execution_count": 15,
   "id": "db78b9cd",
   "metadata": {},
   "outputs": [],
   "source": [
    "# remove non-extreme polarity scores\n",
    "# nevermind\n",
    "#tsla = tsla[(tsla['polarity']>0.25) | (tsla['polarity']<-0.25)]"
   ]
  },
  {
   "cell_type": "code",
   "execution_count": 16,
   "id": "0c45fbef",
   "metadata": {},
   "outputs": [
    {
     "data": {
      "text/plain": [
       "<seaborn.axisgrid.FacetGrid at 0x16b823d1930>"
      ]
     },
     "execution_count": 16,
     "metadata": {},
     "output_type": "execute_result"
    },
    {
     "data": {
      "image/png": "[encoded data removed]",
      "text/plain": [
       "<Figure size 360x360 with 1 Axes>"
      ]
     },
     "metadata": {
      "needs_background": "light"
     },
     "output_type": "display_data"
    }
   ],
   "source": [
    "#sns.displot(tsla['polarity'], bins=20) \\\n",
    "#    .set(title='Sentiment Score Tesla Tweets', xlabel='Polarity')"
   ]
  },
  {
   "cell_type": "code",
   "execution_count": 51,
   "id": "4234cc57",
   "metadata": {
    "scrolled": true
   },
   "outputs": [],
   "source": [
    "from datetime import datetime\n",
    "tsla['post_date'] = pd.to_datetime(tsla['post_date'], unit='s').dt.date #change post_date from unix time to datetime"
   ]
  },
  {
   "cell_type": "code",
   "execution_count": 52,
   "id": "76d9055d",
   "metadata": {},
   "outputs": [],
   "source": [
    "# get the mean polarity of each day\n",
    "polarity_date = tsla[['post_date', 'polarity', 'subjectivity']].groupby('post_date').mean().reset_index()\n",
    "polarity_date = polarity_date.rename(columns={'post_date':'Date'})\n",
    "polarity_date['Date'] = pd.to_datetime(polarity_date['Date']) #convert date to pandas datetime"
   ]
  },
  {
   "cell_type": "code",
   "execution_count": 53,
   "id": "a388404f",
   "metadata": {},
   "outputs": [],
   "source": [
    "# get Tesla stocks from yahoo finance\n",
    "import yfinance as yahooFinance\n",
    "GetTeslaInformation = yahooFinance.Ticker(\"TSLA\")\n",
    "tesla_close = GetTeslaInformation.history(period=\"max\")"
   ]
  },
  {
   "cell_type": "code",
   "execution_count": 54,
   "id": "67feb254",
   "metadata": {},
   "outputs": [],
   "source": [
    "tesla_close.reset_index(inplace=True) # move date from index to its own column\n",
    "tesla_close = tesla_close[['Date', 'Open', 'Close']]\n",
    "tesla_close['Date'] = pd.to_datetime(tesla_close['Date']) # convert date to pandas datetime"
   ]
  },
  {
   "cell_type": "code",
   "execution_count": 55,
   "id": "c7ddb6e9",
   "metadata": {},
   "outputs": [],
   "source": [
    "# combine polarity_date and tsla_final tables on \"Date\" column\n",
    "tsla_final = tesla_close.merge(polarity_date, how=\"left\", on=\"Date\").dropna()\n",
    "# get training and test sets from data\n",
    "X = np.array(tsla_final['polarity']).reshape(-1, 1)\n",
    "y = np.array(tsla_final['Close'])\n",
    "from sklearn.model_selection import train_test_split\n",
    "X_train, X_test, y_train, y_test = train_test_split(X, y)"
   ]
  },
  {
   "cell_type": "code",
   "execution_count": 34,
   "id": "df833a1e",
   "metadata": {},
   "outputs": [
    {
     "data": {
      "text/html": [
       "<div>\n",
       "<style scoped>\n",
       "    .dataframe tbody tr th:only-of-type {\n",
       "        vertical-align: middle;\n",
       "    }\n",
       "\n",
       "    .dataframe tbody tr th {\n",
       "        vertical-align: top;\n",
       "    }\n",
       "\n",
       "    .dataframe thead th {\n",
       "        text-align: right;\n",
       "    }\n",
       "</style>\n",
       "<table border=\"1\" class=\"dataframe\">\n",
       "  <thead>\n",
       "    <tr style=\"text-align: right;\">\n",
       "      <th></th>\n",
       "      <th>Date</th>\n",
       "      <th>Open</th>\n",
       "      <th>Close</th>\n",
       "      <th>polarity</th>\n",
       "    </tr>\n",
       "  </thead>\n",
       "  <tbody>\n",
       "    <tr>\n",
       "      <th>1136</th>\n",
       "      <td>2015-01-02</td>\n",
       "      <td>44.574001</td>\n",
       "      <td>43.862000</td>\n",
       "      <td>0.413871</td>\n",
       "    </tr>\n",
       "    <tr>\n",
       "      <th>1137</th>\n",
       "      <td>2015-01-05</td>\n",
       "      <td>42.910000</td>\n",
       "      <td>42.018002</td>\n",
       "      <td>0.427613</td>\n",
       "    </tr>\n",
       "    <tr>\n",
       "      <th>1138</th>\n",
       "      <td>2015-01-06</td>\n",
       "      <td>42.012001</td>\n",
       "      <td>42.256001</td>\n",
       "      <td>0.415008</td>\n",
       "    </tr>\n",
       "    <tr>\n",
       "      <th>1139</th>\n",
       "      <td>2015-01-07</td>\n",
       "      <td>42.669998</td>\n",
       "      <td>42.189999</td>\n",
       "      <td>0.377024</td>\n",
       "    </tr>\n",
       "    <tr>\n",
       "      <th>1140</th>\n",
       "      <td>2015-01-08</td>\n",
       "      <td>42.562000</td>\n",
       "      <td>42.124001</td>\n",
       "      <td>0.303595</td>\n",
       "    </tr>\n",
       "    <tr>\n",
       "      <th>...</th>\n",
       "      <td>...</td>\n",
       "      <td>...</td>\n",
       "      <td>...</td>\n",
       "      <td>...</td>\n",
       "    </tr>\n",
       "    <tr>\n",
       "      <th>2389</th>\n",
       "      <td>2019-12-24</td>\n",
       "      <td>83.671997</td>\n",
       "      <td>85.050003</td>\n",
       "      <td>0.312909</td>\n",
       "    </tr>\n",
       "    <tr>\n",
       "      <th>2390</th>\n",
       "      <td>2019-12-26</td>\n",
       "      <td>85.582001</td>\n",
       "      <td>86.188004</td>\n",
       "      <td>0.308775</td>\n",
       "    </tr>\n",
       "    <tr>\n",
       "      <th>2391</th>\n",
       "      <td>2019-12-27</td>\n",
       "      <td>87.000000</td>\n",
       "      <td>86.075996</td>\n",
       "      <td>0.266039</td>\n",
       "    </tr>\n",
       "    <tr>\n",
       "      <th>2392</th>\n",
       "      <td>2019-12-30</td>\n",
       "      <td>85.758003</td>\n",
       "      <td>82.940002</td>\n",
       "      <td>0.301495</td>\n",
       "    </tr>\n",
       "    <tr>\n",
       "      <th>2393</th>\n",
       "      <td>2019-12-31</td>\n",
       "      <td>81.000000</td>\n",
       "      <td>83.666000</td>\n",
       "      <td>0.319125</td>\n",
       "    </tr>\n",
       "  </tbody>\n",
       "</table>\n",
       "<p>1258 rows × 4 columns</p>\n",
       "</div>"
      ],
      "text/plain": [
       "           Date       Open      Close  polarity\n",
       "1136 2015-01-02  44.574001  43.862000  0.413871\n",
       "1137 2015-01-05  42.910000  42.018002  0.427613\n",
       "1138 2015-01-06  42.012001  42.256001  0.415008\n",
       "1139 2015-01-07  42.669998  42.189999  0.377024\n",
       "1140 2015-01-08  42.562000  42.124001  0.303595\n",
       "...         ...        ...        ...       ...\n",
       "2389 2019-12-24  83.671997  85.050003  0.312909\n",
       "2390 2019-12-26  85.582001  86.188004  0.308775\n",
       "2391 2019-12-27  87.000000  86.075996  0.266039\n",
       "2392 2019-12-30  85.758003  82.940002  0.301495\n",
       "2393 2019-12-31  81.000000  83.666000  0.319125\n",
       "\n",
       "[1258 rows x 4 columns]"
      ]
     },
     "execution_count": 34,
     "metadata": {},
     "output_type": "execute_result"
    }
   ],
   "source": [
    "tsla_final"
   ]
  },
  {
   "cell_type": "code",
   "execution_count": 56,
   "id": "2bc0fba8",
   "metadata": {},
   "outputs": [],
   "source": [
    "tsla_final.to_parquet('data/tsla_final2.parquet',\n",
    "              compression=None)"
   ]
  },
  {
   "cell_type": "code",
   "execution_count": 26,
   "id": "0b5d4d44",
   "metadata": {},
   "outputs": [
    {
     "data": {
      "text/plain": [
       "RandomForestRegressor()"
      ]
     },
     "execution_count": 26,
     "metadata": {},
     "output_type": "execute_result"
    }
   ],
   "source": [
    "from sklearn.ensemble import RandomForestRegressor\n",
    "forest = RandomForestRegressor()\n",
    "forest.fit(X_train, y_train)"
   ]
  },
  {
   "cell_type": "code",
   "execution_count": 27,
   "id": "359857a9",
   "metadata": {},
   "outputs": [
    {
     "data": {
      "text/plain": [
       "0.819311482988343"
      ]
     },
     "execution_count": 27,
     "metadata": {},
     "output_type": "execute_result"
    }
   ],
   "source": [
    "forest.score(X_train, y_train)"
   ]
  },
  {
   "cell_type": "code",
   "execution_count": 28,
   "id": "3c10ef95",
   "metadata": {},
   "outputs": [
    {
     "data": {
      "text/plain": [
       "-0.2334878021163509"
      ]
     },
     "execution_count": 28,
     "metadata": {},
     "output_type": "execute_result"
    }
   ],
   "source": [
    "forest.score(X_test, y_test)"
   ]
  },
  {
   "cell_type": "code",
   "execution_count": 32,
   "id": "9464e526",
   "metadata": {},
   "outputs": [
    {
     "data": {
      "text/plain": [
       "<bound method IndexOpsMixin.value_counts of 1136   2015-01-02\n",
       "1137   2015-01-05\n",
       "1138   2015-01-06\n",
       "1139   2015-01-07\n",
       "1140   2015-01-08\n",
       "          ...    \n",
       "2389   2019-12-24\n",
       "2390   2019-12-26\n",
       "2391   2019-12-27\n",
       "2392   2019-12-30\n",
       "2393   2019-12-31\n",
       "Name: Date, Length: 1258, dtype: datetime64[ns]>"
      ]
     },
     "execution_count": 32,
     "metadata": {},
     "output_type": "execute_result"
    }
   ],
   "source": [
    "tsla_final['Date']"
   ]
  },
  {
   "cell_type": "code",
   "execution_count": 40,
   "id": "f8024877",
   "metadata": {},
   "outputs": [
    {
     "data": {
      "text/plain": [
       "array([[0.41387135],\n",
       "       [0.42761309],\n",
       "       [0.41500824],\n",
       "       ...,\n",
       "       [0.26603932],\n",
       "       [0.30149523],\n",
       "       [0.31912531]])"
      ]
     },
     "execution_count": 40,
     "metadata": {},
     "output_type": "execute_result"
    }
   ],
   "source": [
    "X"
   ]
  },
  {
   "cell_type": "code",
   "execution_count": null,
   "id": "795c4027",
   "metadata": {},
   "outputs": [],
   "source": []
  }
 ],
 "metadata": {
  "kernelspec": {
   "display_name": "Python 3 (ipykernel)",
   "language": "python",
   "name": "python3"
  },
  "language_info": {
   "codemirror_mode": {
    "name": "ipython",
    "version": 3
   },
   "file_extension": ".py",
   "mimetype": "text/x-python",
   "name": "python",
   "nbconvert_exporter": "python",
   "pygments_lexer": "ipython3",
   "version": "3.10.2"
  }
 },
 "nbformat": 4,
 "nbformat_minor": 5
}
